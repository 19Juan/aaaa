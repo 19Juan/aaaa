{
    "cells": [
        {
            "cell_type": "markdown",
            "metadata": {},
            "source": [
                "# Explore here"
            ]
        },
        {
            "cell_type": "code",
            "execution_count": 16,
            "metadata": {},
            "outputs": [
                {
                    "data": {
                        "application/vnd.microsoft.datawrangler.viewer.v0+json": {
                            "columns": [
                                {
                                    "name": "index",
                                    "rawType": "int64",
                                    "type": "integer"
                                },
                                {
                                    "name": "Fecha Real",
                                    "rawType": "object",
                                    "type": "string"
                                },
                                {
                                    "name": "Maquina",
                                    "rawType": "object",
                                    "type": "string"
                                },
                                {
                                    "name": "Causa",
                                    "rawType": "object",
                                    "type": "string"
                                },
                                {
                                    "name": "Tipo",
                                    "rawType": "object",
                                    "type": "string"
                                },
                                {
                                    "name": "Subtipo",
                                    "rawType": "object",
                                    "type": "unknown"
                                },
                                {
                                    "name": "Familia de Producto",
                                    "rawType": "object",
                                    "type": "string"
                                },
                                {
                                    "name": "Turno en el que se presenta la falla",
                                    "rawType": "int64",
                                    "type": "integer"
                                },
                                {
                                    "name": "Tiempo del paro (min)",
                                    "rawType": "int64",
                                    "type": "integer"
                                }
                            ],
                            "ref": "c4eb2f57-4df9-4100-9cef-5a7425cd4d29",
                            "rows": [
                                [
                                    "0",
                                    "ene-16",
                                    "L1",
                                    "Cambios",
                                    "Cambio de empacadora",
                                    "CAMBIO PRODUCTO",
                                    "ULTRAINVISIBLE RAPISEC",
                                    "2",
                                    "65"
                                ],
                                [
                                    "1",
                                    "ene-16",
                                    "L1",
                                    "Cambios",
                                    "Cambio de empacadora",
                                    "CAMBIO REFERENCIA",
                                    "EXTRAPROTECCIÓN",
                                    "1",
                                    "49"
                                ],
                                [
                                    "2",
                                    "ene-16",
                                    "L1",
                                    "Cambios",
                                    "Cambio de empacadora",
                                    "CAMBIO REFERENCIA",
                                    "EXTRAPROTECCIÓN",
                                    "3",
                                    "175"
                                ],
                                [
                                    "3",
                                    "ene-16",
                                    "L1",
                                    "Cambios",
                                    "Cambio de empacadora",
                                    "CAMBIO REFERENCIA",
                                    "EXTRAPROTECCIÓN",
                                    "1",
                                    "74"
                                ],
                                [
                                    "4",
                                    "ene-16",
                                    "L1",
                                    "Cambios",
                                    "Cambio de empacadora",
                                    "CAMBIO REFERENCIA",
                                    "ULTRAINVISIBLE RAPISEC",
                                    "2",
                                    "179"
                                ],
                                [
                                    "5",
                                    "ene-16",
                                    "L1",
                                    "Cambios",
                                    "Cambio de empacadora",
                                    "CAMBIO REFERENCIA",
                                    "ULTRAINVISIBLE RAPISEC",
                                    "3",
                                    "111"
                                ],
                                [
                                    "6",
                                    "ene-16",
                                    "L1",
                                    "Cambios",
                                    "Cambio de empacadora",
                                    "CAMBIO REFERENCIA",
                                    "EXTRAPROTECCIÓN",
                                    "1",
                                    "12"
                                ],
                                [
                                    "7",
                                    "ene-16",
                                    "L1",
                                    "Cambios",
                                    "Cambio de empacadora",
                                    "CAMBIO REFERENCIA",
                                    "ULTRAINVISIBLE RAPISEC",
                                    "2",
                                    "113"
                                ],
                                [
                                    "8",
                                    "ene-16",
                                    "L1",
                                    "Cambios",
                                    "Cambio de máquina",
                                    "CAMBIO PRODUCTO",
                                    "EXTRAPROTECCIÓN",
                                    "1",
                                    "153"
                                ],
                                [
                                    "9",
                                    "ene-16",
                                    "L1",
                                    "Cambios",
                                    "Cambio de máquina",
                                    "CAMBIO PRODUCTO",
                                    "EXTRAPROTECCIÓN",
                                    "2",
                                    "235"
                                ],
                                [
                                    "10",
                                    "ene-16",
                                    "L1",
                                    "Cambios",
                                    "Cambio de máquina",
                                    "CAMBIO PRODUCTO",
                                    "EXTRAPROTECCIÓN",
                                    "3",
                                    "9"
                                ],
                                [
                                    "11",
                                    "ene-16",
                                    "L1",
                                    "Cambios",
                                    "Cambio de máquina",
                                    "CAMBIO PRODUCTO",
                                    "ULTRAINVISIBLE RAPISEC",
                                    "2",
                                    "174"
                                ],
                                [
                                    "12",
                                    "ene-16",
                                    "L1",
                                    "Cambios",
                                    "Cambio de máquina",
                                    "CAMBIO PRODUCTO",
                                    "ULTRAINVISIBLE RAPISEC",
                                    "3",
                                    "101"
                                ],
                                [
                                    "13",
                                    "ene-16",
                                    "L1",
                                    "Cambios",
                                    "Cambio de máquina",
                                    "CAMBIO PRODUCTO",
                                    "EXTRAPROTECCIÓN",
                                    "2",
                                    "54"
                                ],
                                [
                                    "14",
                                    "ene-16",
                                    "L1",
                                    "Cambios",
                                    "Cambio de máquina",
                                    "CAMBIO PRODUCTO",
                                    "EXTRAPROTECCIÓN",
                                    "3",
                                    "75"
                                ],
                                [
                                    "15",
                                    "ene-16",
                                    "L1",
                                    "Cambios",
                                    "Cambio de máquina",
                                    "CAMBIO PRODUCTO",
                                    "EXTRAPROTECCIÓN",
                                    "1",
                                    "77"
                                ],
                                [
                                    "16",
                                    "ene-16",
                                    "L1",
                                    "Cambios",
                                    "Cambio de máquina",
                                    "CAMBIO PRODUCTO",
                                    "EXTRAPROTECCIÓN",
                                    "3",
                                    "28"
                                ],
                                [
                                    "17",
                                    "ene-16",
                                    "L1",
                                    "Cambios",
                                    "Cambio de máquina",
                                    "CAMBIO PRODUCTO",
                                    "ULTRAINVISIBLE RAPISEC",
                                    "1",
                                    "76"
                                ],
                                [
                                    "18",
                                    "ene-16",
                                    "L1",
                                    "Cambios",
                                    "Cambio de máquina",
                                    "CAMBIO PRODUCTO",
                                    "ULTRAINVISIBLE RAPISEC",
                                    "3",
                                    "242"
                                ],
                                [
                                    "19",
                                    "ene-16",
                                    "L1",
                                    "Cambios",
                                    "Cambio de máquina",
                                    "CAMBIO PRODUCTO",
                                    "TOALLAS NOCTURNAS RAPISEC",
                                    "2",
                                    "9"
                                ],
                                [
                                    "20",
                                    "ene-16",
                                    "L1",
                                    "Cambios",
                                    "Cambio por producto",
                                    null,
                                    "EXTRAPROTECCIÓN",
                                    "2",
                                    "0"
                                ],
                                [
                                    "21",
                                    "ene-16",
                                    "L1",
                                    "Cambios",
                                    "Cambio por producto",
                                    null,
                                    "EXTRAPROTECCIÓN",
                                    "2",
                                    "163"
                                ],
                                [
                                    "22",
                                    "ene-16",
                                    "L1",
                                    "Cambios",
                                    "Cambio por producto",
                                    null,
                                    "ULTRAINVISIBLE RAPISEC",
                                    "2",
                                    "417"
                                ],
                                [
                                    "23",
                                    "ene-16",
                                    "L1",
                                    "Cambios",
                                    "Cambio por producto",
                                    null,
                                    "TOALLAS NOCTURNAS RAPISEC",
                                    "2",
                                    "8"
                                ],
                                [
                                    "24",
                                    "ene-16",
                                    "L1",
                                    "Cambios",
                                    "Cambio por producto",
                                    null,
                                    "TOALLAS NOCTURNAS RAPISEC",
                                    "3",
                                    "38"
                                ],
                                [
                                    "25",
                                    "ene-16",
                                    "L1",
                                    "Limpieza",
                                    "Higienización Detector de metales",
                                    null,
                                    "ULTRAINVISIBLE RAPISEC",
                                    "1",
                                    "87"
                                ],
                                [
                                    "26",
                                    "ene-16",
                                    "L1",
                                    "Limpieza",
                                    "Limpieza de máquina",
                                    null,
                                    "EXTRAPROTECCIÓN",
                                    "2",
                                    "35"
                                ],
                                [
                                    "27",
                                    "ene-16",
                                    "L1",
                                    "Limpieza",
                                    "Limpieza de máquina",
                                    null,
                                    "EXTRAPROTECCIÓN",
                                    "2",
                                    "15"
                                ],
                                [
                                    "28",
                                    "ene-16",
                                    "L1",
                                    "Limpieza",
                                    "Limpieza de máquina",
                                    null,
                                    "ULTRAINVISIBLE RAPISEC",
                                    "1",
                                    "113"
                                ],
                                [
                                    "29",
                                    "ene-16",
                                    "L1",
                                    "Limpieza",
                                    "Limpieza de máquina",
                                    null,
                                    "ULTRAINVISIBLE RAPISEC",
                                    "2",
                                    "10"
                                ],
                                [
                                    "30",
                                    "ene-16",
                                    "L1",
                                    "Limpieza",
                                    "Limpieza de máquina",
                                    null,
                                    "ULTRAINVISIBLE RAPISEC",
                                    "3",
                                    "33"
                                ],
                                [
                                    "31",
                                    "ene-16",
                                    "L1",
                                    "Limpieza",
                                    "Limpieza de máquina",
                                    null,
                                    "EXTRAPROTECCIÓN",
                                    "2",
                                    "174"
                                ],
                                [
                                    "32",
                                    "ene-16",
                                    "L1",
                                    "Material y personal",
                                    "Calidad de material de empaques",
                                    null,
                                    "EXTRAPROTECCIÓN",
                                    "2",
                                    "21"
                                ],
                                [
                                    "33",
                                    "ene-16",
                                    "L1",
                                    "Material y personal",
                                    "Calidad de materias primas",
                                    "CALIDAD BOLSA",
                                    "EXTRAPROTECCIÓN",
                                    "1",
                                    "7"
                                ],
                                [
                                    "34",
                                    "ene-16",
                                    "L1",
                                    "Material y personal",
                                    "Calidad de materias primas",
                                    "CALIDAD NOVATHIN",
                                    "ULTRAINVISIBLE RAPISEC",
                                    "3",
                                    "4"
                                ],
                                [
                                    "35",
                                    "ene-16",
                                    "L1",
                                    "Material y personal",
                                    "Calidad de materias primas",
                                    "CALIDAD NOVATHIN",
                                    "ULTRAINVISIBLE RAPISEC",
                                    "3",
                                    "4"
                                ],
                                [
                                    "36",
                                    "ene-16",
                                    "L1",
                                    "Material y personal",
                                    "Calidad de materias primas",
                                    "CALIDAD NOVATHIN",
                                    "TOALLAS NOCTURNAS RAPISEC",
                                    "1",
                                    "9"
                                ],
                                [
                                    "37",
                                    "ene-16",
                                    "L1",
                                    "Material y personal",
                                    "Calidad de materias primas",
                                    "CALIDAD NOVATHIN",
                                    "TOALLAS NOCTURNAS RAPISEC",
                                    "3",
                                    "3"
                                ],
                                [
                                    "38",
                                    "ene-16",
                                    "L1",
                                    "Material y personal",
                                    "Calidad de materias primas",
                                    "CALIDAD PI",
                                    "ULTRAINVISIBLE RAPISEC",
                                    "2",
                                    "7"
                                ],
                                [
                                    "39",
                                    "ene-16",
                                    "L1",
                                    "Material y personal",
                                    "Calidad de materias primas",
                                    "CALIDAD SUBLAYER",
                                    "ULTRAINVISIBLE RAPISEC",
                                    "2",
                                    "3"
                                ],
                                [
                                    "40",
                                    "ene-16",
                                    "L1",
                                    "Material y personal",
                                    "Calidad de materias primas",
                                    "CALIDAD SW",
                                    "EXTRAPROTECCIÓN",
                                    "1",
                                    "8"
                                ],
                                [
                                    "41",
                                    "ene-16",
                                    "L1",
                                    "Material y personal",
                                    "Calidad de materias primas",
                                    "CALIDAD SW",
                                    "EXTRAPROTECCIÓN",
                                    "3",
                                    "5"
                                ],
                                [
                                    "42",
                                    "ene-16",
                                    "L1",
                                    "Material y personal",
                                    "Especificación de Ficha",
                                    null,
                                    "EXTRAPROTECCIÓN",
                                    "2",
                                    "86"
                                ],
                                [
                                    "43",
                                    "ene-16",
                                    "L1",
                                    "Mto. Correctivo",
                                    "Mto. Eléctrico",
                                    "AUSENCIA VIDEO JET",
                                    "EXTRAPROTECCIÓN",
                                    "3",
                                    "20"
                                ],
                                [
                                    "44",
                                    "ene-16",
                                    "L1",
                                    "Mto. Correctivo",
                                    "Mto. Eléctrico",
                                    "AUSENCIA VIDEO JET",
                                    "EXTRAPROTECCIÓN",
                                    "2",
                                    "6"
                                ],
                                [
                                    "45",
                                    "ene-16",
                                    "L1",
                                    "Mto. Correctivo",
                                    "Mto. Eléctrico",
                                    "AUSENCIA VIDEO JET",
                                    "EXTRAPROTECCIÓN",
                                    "3",
                                    "5"
                                ],
                                [
                                    "46",
                                    "ene-16",
                                    "L1",
                                    "Mto. Correctivo",
                                    "Mto. Eléctrico",
                                    "AUSENCIA VIDEO JET",
                                    "ULTRAINVISIBLE RAPISEC",
                                    "1",
                                    "11"
                                ],
                                [
                                    "47",
                                    "ene-16",
                                    "L1",
                                    "Mto. Correctivo",
                                    "Mto. Eléctrico",
                                    "AUSENCIA VIDEO JET",
                                    "ULTRAINVISIBLE RAPISEC",
                                    "3",
                                    "13"
                                ],
                                [
                                    "48",
                                    "ene-16",
                                    "L1",
                                    "Mto. Correctivo",
                                    "Mto. Eléctrico",
                                    "CALIBRACION ELECTRONICA",
                                    "EXTRAPROTECCIÓN",
                                    "1",
                                    "3"
                                ],
                                [
                                    "49",
                                    "ene-16",
                                    "L1",
                                    "Mto. Correctivo",
                                    "Mto. Eléctrico",
                                    "EMPACADORA",
                                    "ULTRAINVISIBLE RAPISEC",
                                    "1",
                                    "45"
                                ]
                            ],
                            "shape": {
                                "columns": 8,
                                "rows": 70209
                            }
                        },
                        "text/html": [
                            "<div>\n",
                            "<style scoped>\n",
                            "    .dataframe tbody tr th:only-of-type {\n",
                            "        vertical-align: middle;\n",
                            "    }\n",
                            "\n",
                            "    .dataframe tbody tr th {\n",
                            "        vertical-align: top;\n",
                            "    }\n",
                            "\n",
                            "    .dataframe thead th {\n",
                            "        text-align: right;\n",
                            "    }\n",
                            "</style>\n",
                            "<table border=\"1\" class=\"dataframe\">\n",
                            "  <thead>\n",
                            "    <tr style=\"text-align: right;\">\n",
                            "      <th></th>\n",
                            "      <th>Fecha Real</th>\n",
                            "      <th>Maquina</th>\n",
                            "      <th>Causa</th>\n",
                            "      <th>Tipo</th>\n",
                            "      <th>Subtipo</th>\n",
                            "      <th>Familia de Producto</th>\n",
                            "      <th>Turno en el que se presenta la falla</th>\n",
                            "      <th>Tiempo del paro (min)</th>\n",
                            "    </tr>\n",
                            "  </thead>\n",
                            "  <tbody>\n",
                            "    <tr>\n",
                            "      <th>0</th>\n",
                            "      <td>ene-16</td>\n",
                            "      <td>L1</td>\n",
                            "      <td>Cambios</td>\n",
                            "      <td>Cambio de empacadora</td>\n",
                            "      <td>CAMBIO PRODUCTO</td>\n",
                            "      <td>ULTRAINVISIBLE RAPISEC</td>\n",
                            "      <td>2</td>\n",
                            "      <td>65</td>\n",
                            "    </tr>\n",
                            "    <tr>\n",
                            "      <th>1</th>\n",
                            "      <td>ene-16</td>\n",
                            "      <td>L1</td>\n",
                            "      <td>Cambios</td>\n",
                            "      <td>Cambio de empacadora</td>\n",
                            "      <td>CAMBIO REFERENCIA</td>\n",
                            "      <td>EXTRAPROTECCIÓN</td>\n",
                            "      <td>1</td>\n",
                            "      <td>49</td>\n",
                            "    </tr>\n",
                            "    <tr>\n",
                            "      <th>2</th>\n",
                            "      <td>ene-16</td>\n",
                            "      <td>L1</td>\n",
                            "      <td>Cambios</td>\n",
                            "      <td>Cambio de empacadora</td>\n",
                            "      <td>CAMBIO REFERENCIA</td>\n",
                            "      <td>EXTRAPROTECCIÓN</td>\n",
                            "      <td>3</td>\n",
                            "      <td>175</td>\n",
                            "    </tr>\n",
                            "    <tr>\n",
                            "      <th>3</th>\n",
                            "      <td>ene-16</td>\n",
                            "      <td>L1</td>\n",
                            "      <td>Cambios</td>\n",
                            "      <td>Cambio de empacadora</td>\n",
                            "      <td>CAMBIO REFERENCIA</td>\n",
                            "      <td>EXTRAPROTECCIÓN</td>\n",
                            "      <td>1</td>\n",
                            "      <td>74</td>\n",
                            "    </tr>\n",
                            "    <tr>\n",
                            "      <th>4</th>\n",
                            "      <td>ene-16</td>\n",
                            "      <td>L1</td>\n",
                            "      <td>Cambios</td>\n",
                            "      <td>Cambio de empacadora</td>\n",
                            "      <td>CAMBIO REFERENCIA</td>\n",
                            "      <td>ULTRAINVISIBLE RAPISEC</td>\n",
                            "      <td>2</td>\n",
                            "      <td>179</td>\n",
                            "    </tr>\n",
                            "    <tr>\n",
                            "      <th>...</th>\n",
                            "      <td>...</td>\n",
                            "      <td>...</td>\n",
                            "      <td>...</td>\n",
                            "      <td>...</td>\n",
                            "      <td>...</td>\n",
                            "      <td>...</td>\n",
                            "      <td>...</td>\n",
                            "      <td>...</td>\n",
                            "    </tr>\n",
                            "    <tr>\n",
                            "      <th>70204</th>\n",
                            "      <td>mar-17</td>\n",
                            "      <td>L4</td>\n",
                            "      <td>Paros</td>\n",
                            "      <td>Paro por reventado</td>\n",
                            "      <td>AUT_10058_MOL_AUSENCIA PULPA 1</td>\n",
                            "      <td>DIARIOS NORMAL</td>\n",
                            "      <td>2</td>\n",
                            "      <td>2</td>\n",
                            "    </tr>\n",
                            "    <tr>\n",
                            "      <th>70205</th>\n",
                            "      <td>mar-17</td>\n",
                            "      <td>L4</td>\n",
                            "      <td>Paros</td>\n",
                            "      <td>Paro por reventado</td>\n",
                            "      <td>AUT_10058_MOL_AUSENCIA PULPA 1</td>\n",
                            "      <td>DIARIOS NORMAL</td>\n",
                            "      <td>2</td>\n",
                            "      <td>2</td>\n",
                            "    </tr>\n",
                            "    <tr>\n",
                            "      <th>70206</th>\n",
                            "      <td>mar-17</td>\n",
                            "      <td>L4</td>\n",
                            "      <td>Paros</td>\n",
                            "      <td>Paro por reventado</td>\n",
                            "      <td>AUT_10058_MOL_AUSENCIA PULPA 1</td>\n",
                            "      <td>DIARIOS NORMAL</td>\n",
                            "      <td>1</td>\n",
                            "      <td>1</td>\n",
                            "    </tr>\n",
                            "    <tr>\n",
                            "      <th>70207</th>\n",
                            "      <td>mar-17</td>\n",
                            "      <td>L4</td>\n",
                            "      <td>PAROS POR FUERZA MAYOR</td>\n",
                            "      <td>Corte de energía</td>\n",
                            "      <td>NaN</td>\n",
                            "      <td>DIARIOS NORMAL</td>\n",
                            "      <td>2</td>\n",
                            "      <td>134</td>\n",
                            "    </tr>\n",
                            "    <tr>\n",
                            "      <th>70208</th>\n",
                            "      <td>mar-17</td>\n",
                            "      <td>L4</td>\n",
                            "      <td>PAROS POR FUERZA MAYOR</td>\n",
                            "      <td>Corte de energía</td>\n",
                            "      <td>NaN</td>\n",
                            "      <td>DIARIOS NATURAL RESPIRABLE</td>\n",
                            "      <td>2</td>\n",
                            "      <td>10</td>\n",
                            "    </tr>\n",
                            "  </tbody>\n",
                            "</table>\n",
                            "<p>70209 rows × 8 columns</p>\n",
                            "</div>"
                        ],
                        "text/plain": [
                            "      Fecha Real Maquina                   Causa                  Tipo  \\\n",
                            "0         ene-16      L1                 Cambios  Cambio de empacadora   \n",
                            "1         ene-16      L1                 Cambios  Cambio de empacadora   \n",
                            "2         ene-16      L1                 Cambios  Cambio de empacadora   \n",
                            "3         ene-16      L1                 Cambios  Cambio de empacadora   \n",
                            "4         ene-16      L1                 Cambios  Cambio de empacadora   \n",
                            "...          ...     ...                     ...                   ...   \n",
                            "70204     mar-17      L4                   Paros    Paro por reventado   \n",
                            "70205     mar-17      L4                   Paros    Paro por reventado   \n",
                            "70206     mar-17      L4                   Paros    Paro por reventado   \n",
                            "70207     mar-17      L4  PAROS POR FUERZA MAYOR      Corte de energía   \n",
                            "70208     mar-17      L4  PAROS POR FUERZA MAYOR      Corte de energía   \n",
                            "\n",
                            "                              Subtipo         Familia de Producto  \\\n",
                            "0                     CAMBIO PRODUCTO      ULTRAINVISIBLE RAPISEC   \n",
                            "1                   CAMBIO REFERENCIA             EXTRAPROTECCIÓN   \n",
                            "2                   CAMBIO REFERENCIA             EXTRAPROTECCIÓN   \n",
                            "3                   CAMBIO REFERENCIA             EXTRAPROTECCIÓN   \n",
                            "4                   CAMBIO REFERENCIA      ULTRAINVISIBLE RAPISEC   \n",
                            "...                               ...                         ...   \n",
                            "70204  AUT_10058_MOL_AUSENCIA PULPA 1              DIARIOS NORMAL   \n",
                            "70205  AUT_10058_MOL_AUSENCIA PULPA 1              DIARIOS NORMAL   \n",
                            "70206  AUT_10058_MOL_AUSENCIA PULPA 1              DIARIOS NORMAL   \n",
                            "70207                             NaN              DIARIOS NORMAL   \n",
                            "70208                             NaN  DIARIOS NATURAL RESPIRABLE   \n",
                            "\n",
                            "       Turno en el que se presenta la falla  Tiempo del paro (min)  \n",
                            "0                                         2                     65  \n",
                            "1                                         1                     49  \n",
                            "2                                         3                    175  \n",
                            "3                                         1                     74  \n",
                            "4                                         2                    179  \n",
                            "...                                     ...                    ...  \n",
                            "70204                                     2                      2  \n",
                            "70205                                     2                      2  \n",
                            "70206                                     1                      1  \n",
                            "70207                                     2                    134  \n",
                            "70208                                     2                     10  \n",
                            "\n",
                            "[70209 rows x 8 columns]"
                        ]
                    },
                    "execution_count": 16,
                    "metadata": {},
                    "output_type": "execute_result"
                }
            ],
            "source": [
                "import pandas as pd\n",
                "\n",
                "df = pd.read_csv('../data/raw/BD.csv', sep=';', encoding='latin1')\n",
                "\n",
                "df"
            ]
        },
        {
            "cell_type": "code",
            "execution_count": 17,
            "metadata": {},
            "outputs": [
                {
                    "name": "stdout",
                    "output_type": "stream",
                    "text": [
                        "Subtipo\n",
                        "tengo nulos en todas estas columnas\n"
                    ]
                }
            ],
            "source": [
                "#Para revisar en qué columnas yo tengo un valor nulo\n",
                "for column in df.columns:\n",
                "    nulls = df[column].isnull().sum()\n",
                "    if nulls > 0:\n",
                "        print(column)\n",
                "\n",
                "print('tengo nulos en todas estas columnas')"
            ]
        },
        {
            "cell_type": "code",
            "execution_count": 18,
            "metadata": {},
            "outputs": [
                {
                    "data": {
                        "application/vnd.microsoft.datawrangler.viewer.v0+json": {
                            "columns": [
                                {
                                    "name": "index",
                                    "rawType": "int64",
                                    "type": "integer"
                                },
                                {
                                    "name": "Fecha Real",
                                    "rawType": "object",
                                    "type": "string"
                                },
                                {
                                    "name": "Maquina",
                                    "rawType": "object",
                                    "type": "string"
                                },
                                {
                                    "name": "Causa",
                                    "rawType": "object",
                                    "type": "string"
                                },
                                {
                                    "name": "Tipo",
                                    "rawType": "object",
                                    "type": "string"
                                },
                                {
                                    "name": "Subtipo",
                                    "rawType": "object",
                                    "type": "string"
                                },
                                {
                                    "name": "Familia de Producto",
                                    "rawType": "object",
                                    "type": "string"
                                },
                                {
                                    "name": "Turno en el que se presenta la falla",
                                    "rawType": "int64",
                                    "type": "integer"
                                },
                                {
                                    "name": "Tiempo del paro (min)",
                                    "rawType": "int64",
                                    "type": "integer"
                                }
                            ],
                            "ref": "99ae392e-86fa-4917-8b92-94c0be77265e",
                            "rows": [
                                [
                                    "0",
                                    "ene-16",
                                    "L1",
                                    "Cambios",
                                    "Cambio de empacadora",
                                    "CAMBIO PRODUCTO",
                                    "ULTRAINVISIBLE RAPISEC",
                                    "2",
                                    "65"
                                ],
                                [
                                    "1",
                                    "ene-16",
                                    "L1",
                                    "Cambios",
                                    "Cambio de empacadora",
                                    "CAMBIO REFERENCIA",
                                    "EXTRAPROTECCIÓN",
                                    "1",
                                    "49"
                                ],
                                [
                                    "2",
                                    "ene-16",
                                    "L1",
                                    "Cambios",
                                    "Cambio de empacadora",
                                    "CAMBIO REFERENCIA",
                                    "EXTRAPROTECCIÓN",
                                    "3",
                                    "175"
                                ],
                                [
                                    "3",
                                    "ene-16",
                                    "L1",
                                    "Cambios",
                                    "Cambio de empacadora",
                                    "CAMBIO REFERENCIA",
                                    "EXTRAPROTECCIÓN",
                                    "1",
                                    "74"
                                ],
                                [
                                    "4",
                                    "ene-16",
                                    "L1",
                                    "Cambios",
                                    "Cambio de empacadora",
                                    "CAMBIO REFERENCIA",
                                    "ULTRAINVISIBLE RAPISEC",
                                    "2",
                                    "179"
                                ],
                                [
                                    "5",
                                    "ene-16",
                                    "L1",
                                    "Cambios",
                                    "Cambio de empacadora",
                                    "CAMBIO REFERENCIA",
                                    "ULTRAINVISIBLE RAPISEC",
                                    "3",
                                    "111"
                                ],
                                [
                                    "6",
                                    "ene-16",
                                    "L1",
                                    "Cambios",
                                    "Cambio de empacadora",
                                    "CAMBIO REFERENCIA",
                                    "EXTRAPROTECCIÓN",
                                    "1",
                                    "12"
                                ],
                                [
                                    "7",
                                    "ene-16",
                                    "L1",
                                    "Cambios",
                                    "Cambio de empacadora",
                                    "CAMBIO REFERENCIA",
                                    "ULTRAINVISIBLE RAPISEC",
                                    "2",
                                    "113"
                                ],
                                [
                                    "8",
                                    "ene-16",
                                    "L1",
                                    "Cambios",
                                    "Cambio de máquina",
                                    "CAMBIO PRODUCTO",
                                    "EXTRAPROTECCIÓN",
                                    "1",
                                    "153"
                                ],
                                [
                                    "9",
                                    "ene-16",
                                    "L1",
                                    "Cambios",
                                    "Cambio de máquina",
                                    "CAMBIO PRODUCTO",
                                    "EXTRAPROTECCIÓN",
                                    "2",
                                    "235"
                                ],
                                [
                                    "10",
                                    "ene-16",
                                    "L1",
                                    "Cambios",
                                    "Cambio de máquina",
                                    "CAMBIO PRODUCTO",
                                    "EXTRAPROTECCIÓN",
                                    "3",
                                    "9"
                                ],
                                [
                                    "11",
                                    "ene-16",
                                    "L1",
                                    "Cambios",
                                    "Cambio de máquina",
                                    "CAMBIO PRODUCTO",
                                    "ULTRAINVISIBLE RAPISEC",
                                    "2",
                                    "174"
                                ],
                                [
                                    "12",
                                    "ene-16",
                                    "L1",
                                    "Cambios",
                                    "Cambio de máquina",
                                    "CAMBIO PRODUCTO",
                                    "ULTRAINVISIBLE RAPISEC",
                                    "3",
                                    "101"
                                ],
                                [
                                    "13",
                                    "ene-16",
                                    "L1",
                                    "Cambios",
                                    "Cambio de máquina",
                                    "CAMBIO PRODUCTO",
                                    "EXTRAPROTECCIÓN",
                                    "2",
                                    "54"
                                ],
                                [
                                    "14",
                                    "ene-16",
                                    "L1",
                                    "Cambios",
                                    "Cambio de máquina",
                                    "CAMBIO PRODUCTO",
                                    "EXTRAPROTECCIÓN",
                                    "3",
                                    "75"
                                ],
                                [
                                    "15",
                                    "ene-16",
                                    "L1",
                                    "Cambios",
                                    "Cambio de máquina",
                                    "CAMBIO PRODUCTO",
                                    "EXTRAPROTECCIÓN",
                                    "1",
                                    "77"
                                ],
                                [
                                    "16",
                                    "ene-16",
                                    "L1",
                                    "Cambios",
                                    "Cambio de máquina",
                                    "CAMBIO PRODUCTO",
                                    "EXTRAPROTECCIÓN",
                                    "3",
                                    "28"
                                ],
                                [
                                    "17",
                                    "ene-16",
                                    "L1",
                                    "Cambios",
                                    "Cambio de máquina",
                                    "CAMBIO PRODUCTO",
                                    "ULTRAINVISIBLE RAPISEC",
                                    "1",
                                    "76"
                                ],
                                [
                                    "18",
                                    "ene-16",
                                    "L1",
                                    "Cambios",
                                    "Cambio de máquina",
                                    "CAMBIO PRODUCTO",
                                    "ULTRAINVISIBLE RAPISEC",
                                    "3",
                                    "242"
                                ],
                                [
                                    "19",
                                    "ene-16",
                                    "L1",
                                    "Cambios",
                                    "Cambio de máquina",
                                    "CAMBIO PRODUCTO",
                                    "TOALLAS NOCTURNAS RAPISEC",
                                    "2",
                                    "9"
                                ],
                                [
                                    "33",
                                    "ene-16",
                                    "L1",
                                    "Material y personal",
                                    "Calidad de materias primas",
                                    "CALIDAD BOLSA",
                                    "EXTRAPROTECCIÓN",
                                    "1",
                                    "7"
                                ],
                                [
                                    "34",
                                    "ene-16",
                                    "L1",
                                    "Material y personal",
                                    "Calidad de materias primas",
                                    "CALIDAD NOVATHIN",
                                    "ULTRAINVISIBLE RAPISEC",
                                    "3",
                                    "4"
                                ],
                                [
                                    "35",
                                    "ene-16",
                                    "L1",
                                    "Material y personal",
                                    "Calidad de materias primas",
                                    "CALIDAD NOVATHIN",
                                    "ULTRAINVISIBLE RAPISEC",
                                    "3",
                                    "4"
                                ],
                                [
                                    "36",
                                    "ene-16",
                                    "L1",
                                    "Material y personal",
                                    "Calidad de materias primas",
                                    "CALIDAD NOVATHIN",
                                    "TOALLAS NOCTURNAS RAPISEC",
                                    "1",
                                    "9"
                                ],
                                [
                                    "37",
                                    "ene-16",
                                    "L1",
                                    "Material y personal",
                                    "Calidad de materias primas",
                                    "CALIDAD NOVATHIN",
                                    "TOALLAS NOCTURNAS RAPISEC",
                                    "3",
                                    "3"
                                ],
                                [
                                    "38",
                                    "ene-16",
                                    "L1",
                                    "Material y personal",
                                    "Calidad de materias primas",
                                    "CALIDAD PI",
                                    "ULTRAINVISIBLE RAPISEC",
                                    "2",
                                    "7"
                                ],
                                [
                                    "39",
                                    "ene-16",
                                    "L1",
                                    "Material y personal",
                                    "Calidad de materias primas",
                                    "CALIDAD SUBLAYER",
                                    "ULTRAINVISIBLE RAPISEC",
                                    "2",
                                    "3"
                                ],
                                [
                                    "40",
                                    "ene-16",
                                    "L1",
                                    "Material y personal",
                                    "Calidad de materias primas",
                                    "CALIDAD SW",
                                    "EXTRAPROTECCIÓN",
                                    "1",
                                    "8"
                                ],
                                [
                                    "41",
                                    "ene-16",
                                    "L1",
                                    "Material y personal",
                                    "Calidad de materias primas",
                                    "CALIDAD SW",
                                    "EXTRAPROTECCIÓN",
                                    "3",
                                    "5"
                                ],
                                [
                                    "43",
                                    "ene-16",
                                    "L1",
                                    "Mto. Correctivo",
                                    "Mto. Eléctrico",
                                    "AUSENCIA VIDEO JET",
                                    "EXTRAPROTECCIÓN",
                                    "3",
                                    "20"
                                ],
                                [
                                    "44",
                                    "ene-16",
                                    "L1",
                                    "Mto. Correctivo",
                                    "Mto. Eléctrico",
                                    "AUSENCIA VIDEO JET",
                                    "EXTRAPROTECCIÓN",
                                    "2",
                                    "6"
                                ],
                                [
                                    "45",
                                    "ene-16",
                                    "L1",
                                    "Mto. Correctivo",
                                    "Mto. Eléctrico",
                                    "AUSENCIA VIDEO JET",
                                    "EXTRAPROTECCIÓN",
                                    "3",
                                    "5"
                                ],
                                [
                                    "46",
                                    "ene-16",
                                    "L1",
                                    "Mto. Correctivo",
                                    "Mto. Eléctrico",
                                    "AUSENCIA VIDEO JET",
                                    "ULTRAINVISIBLE RAPISEC",
                                    "1",
                                    "11"
                                ],
                                [
                                    "47",
                                    "ene-16",
                                    "L1",
                                    "Mto. Correctivo",
                                    "Mto. Eléctrico",
                                    "AUSENCIA VIDEO JET",
                                    "ULTRAINVISIBLE RAPISEC",
                                    "3",
                                    "13"
                                ],
                                [
                                    "48",
                                    "ene-16",
                                    "L1",
                                    "Mto. Correctivo",
                                    "Mto. Eléctrico",
                                    "CALIBRACION ELECTRONICA",
                                    "EXTRAPROTECCIÓN",
                                    "1",
                                    "3"
                                ],
                                [
                                    "49",
                                    "ene-16",
                                    "L1",
                                    "Mto. Correctivo",
                                    "Mto. Eléctrico",
                                    "EMPACADORA",
                                    "ULTRAINVISIBLE RAPISEC",
                                    "1",
                                    "45"
                                ],
                                [
                                    "50",
                                    "ene-16",
                                    "L1",
                                    "Mto. Correctivo",
                                    "Mto. Eléctrico",
                                    "EMPACADORA",
                                    "ULTRAINVISIBLE RAPISEC",
                                    "2",
                                    "7"
                                ],
                                [
                                    "51",
                                    "ene-16",
                                    "L1",
                                    "Mto. Correctivo",
                                    "Mto. Eléctrico",
                                    "EMPACADORA",
                                    "ULTRAINVISIBLE RAPISEC",
                                    "1",
                                    "10"
                                ],
                                [
                                    "52",
                                    "ene-16",
                                    "L1",
                                    "Mto. Correctivo",
                                    "Mto. Eléctrico",
                                    "ESTACKER",
                                    "ULTRAINVISIBLE RAPISEC",
                                    "1",
                                    "5"
                                ],
                                [
                                    "53",
                                    "ene-16",
                                    "L1",
                                    "Mto. Correctivo",
                                    "Mto. Eléctrico",
                                    "ESTACKER",
                                    "ULTRAINVISIBLE RAPISEC",
                                    "2",
                                    "17"
                                ],
                                [
                                    "54",
                                    "ene-16",
                                    "L1",
                                    "Mto. Correctivo",
                                    "Mto. Eléctrico",
                                    "FALTA AIRE",
                                    "EXTRAPROTECCIÓN",
                                    "1",
                                    "6"
                                ],
                                [
                                    "55",
                                    "ene-16",
                                    "L1",
                                    "Mto. Correctivo",
                                    "Mto. Eléctrico",
                                    "MELTEX",
                                    "ULTRAINVISIBLE RAPISEC",
                                    "1",
                                    "3"
                                ],
                                [
                                    "56",
                                    "ene-16",
                                    "L1",
                                    "Mto. Correctivo",
                                    "Mto. Eléctrico",
                                    "SENSOR DESCALIBRADO",
                                    "EXTRAPROTECCIÓN",
                                    "1",
                                    "6"
                                ],
                                [
                                    "57",
                                    "ene-16",
                                    "L1",
                                    "Mto. Correctivo",
                                    "Mto. Eléctrico",
                                    "SENSOR DESCALIBRADO",
                                    "EXTRAPROTECCIÓN",
                                    "2",
                                    "3"
                                ],
                                [
                                    "58",
                                    "ene-16",
                                    "L1",
                                    "Mto. Correctivo",
                                    "Mto. Eléctrico",
                                    "SENSOR DESCALIBRADO",
                                    "ULTRAINVISIBLE RAPISEC",
                                    "2",
                                    "4"
                                ],
                                [
                                    "59",
                                    "ene-16",
                                    "L1",
                                    "Mto. Correctivo",
                                    "Mto. Eléctrico",
                                    "SENSOR DESCALIBRADO",
                                    "ULTRAINVISIBLE RAPISEC",
                                    "3",
                                    "35"
                                ],
                                [
                                    "60",
                                    "ene-16",
                                    "L1",
                                    "Mto. Correctivo",
                                    "Mto. Eléctrico",
                                    "SERVO MOTORES",
                                    "EXTRAPROTECCIÓN",
                                    "1",
                                    "13"
                                ],
                                [
                                    "61",
                                    "ene-16",
                                    "L1",
                                    "Mto. Correctivo",
                                    "Mto. Eléctrico",
                                    "TERMORREGULADOR",
                                    "ULTRAINVISIBLE RAPISEC",
                                    "3",
                                    "8"
                                ],
                                [
                                    "62",
                                    "ene-16",
                                    "L1",
                                    "Mto. Correctivo",
                                    "Mto. Eléctrico",
                                    "VALVULAS SISTEMA NEUMATICO",
                                    "ULTRAINVISIBLE RAPISEC",
                                    "2",
                                    "10"
                                ],
                                [
                                    "63",
                                    "ene-16",
                                    "L1",
                                    "Mto. Correctivo",
                                    "Mto. Eléctrico",
                                    "VIDEO JET",
                                    "EXTRAPROTECCIÓN",
                                    "1",
                                    "72"
                                ]
                            ],
                            "shape": {
                                "columns": 8,
                                "rows": 59329
                            }
                        },
                        "text/html": [
                            "<div>\n",
                            "<style scoped>\n",
                            "    .dataframe tbody tr th:only-of-type {\n",
                            "        vertical-align: middle;\n",
                            "    }\n",
                            "\n",
                            "    .dataframe tbody tr th {\n",
                            "        vertical-align: top;\n",
                            "    }\n",
                            "\n",
                            "    .dataframe thead th {\n",
                            "        text-align: right;\n",
                            "    }\n",
                            "</style>\n",
                            "<table border=\"1\" class=\"dataframe\">\n",
                            "  <thead>\n",
                            "    <tr style=\"text-align: right;\">\n",
                            "      <th></th>\n",
                            "      <th>Fecha Real</th>\n",
                            "      <th>Maquina</th>\n",
                            "      <th>Causa</th>\n",
                            "      <th>Tipo</th>\n",
                            "      <th>Subtipo</th>\n",
                            "      <th>Familia de Producto</th>\n",
                            "      <th>Turno en el que se presenta la falla</th>\n",
                            "      <th>Tiempo del paro (min)</th>\n",
                            "    </tr>\n",
                            "  </thead>\n",
                            "  <tbody>\n",
                            "    <tr>\n",
                            "      <th>0</th>\n",
                            "      <td>ene-16</td>\n",
                            "      <td>L1</td>\n",
                            "      <td>Cambios</td>\n",
                            "      <td>Cambio de empacadora</td>\n",
                            "      <td>CAMBIO PRODUCTO</td>\n",
                            "      <td>ULTRAINVISIBLE RAPISEC</td>\n",
                            "      <td>2</td>\n",
                            "      <td>65</td>\n",
                            "    </tr>\n",
                            "    <tr>\n",
                            "      <th>1</th>\n",
                            "      <td>ene-16</td>\n",
                            "      <td>L1</td>\n",
                            "      <td>Cambios</td>\n",
                            "      <td>Cambio de empacadora</td>\n",
                            "      <td>CAMBIO REFERENCIA</td>\n",
                            "      <td>EXTRAPROTECCIÓN</td>\n",
                            "      <td>1</td>\n",
                            "      <td>49</td>\n",
                            "    </tr>\n",
                            "    <tr>\n",
                            "      <th>2</th>\n",
                            "      <td>ene-16</td>\n",
                            "      <td>L1</td>\n",
                            "      <td>Cambios</td>\n",
                            "      <td>Cambio de empacadora</td>\n",
                            "      <td>CAMBIO REFERENCIA</td>\n",
                            "      <td>EXTRAPROTECCIÓN</td>\n",
                            "      <td>3</td>\n",
                            "      <td>175</td>\n",
                            "    </tr>\n",
                            "    <tr>\n",
                            "      <th>3</th>\n",
                            "      <td>ene-16</td>\n",
                            "      <td>L1</td>\n",
                            "      <td>Cambios</td>\n",
                            "      <td>Cambio de empacadora</td>\n",
                            "      <td>CAMBIO REFERENCIA</td>\n",
                            "      <td>EXTRAPROTECCIÓN</td>\n",
                            "      <td>1</td>\n",
                            "      <td>74</td>\n",
                            "    </tr>\n",
                            "    <tr>\n",
                            "      <th>4</th>\n",
                            "      <td>ene-16</td>\n",
                            "      <td>L1</td>\n",
                            "      <td>Cambios</td>\n",
                            "      <td>Cambio de empacadora</td>\n",
                            "      <td>CAMBIO REFERENCIA</td>\n",
                            "      <td>ULTRAINVISIBLE RAPISEC</td>\n",
                            "      <td>2</td>\n",
                            "      <td>179</td>\n",
                            "    </tr>\n",
                            "    <tr>\n",
                            "      <th>...</th>\n",
                            "      <td>...</td>\n",
                            "      <td>...</td>\n",
                            "      <td>...</td>\n",
                            "      <td>...</td>\n",
                            "      <td>...</td>\n",
                            "      <td>...</td>\n",
                            "      <td>...</td>\n",
                            "      <td>...</td>\n",
                            "    </tr>\n",
                            "    <tr>\n",
                            "      <th>70202</th>\n",
                            "      <td>mar-17</td>\n",
                            "      <td>L4</td>\n",
                            "      <td>Paros</td>\n",
                            "      <td>Paro por reventado</td>\n",
                            "      <td>AUT_10043_MPR_FALTA TRIM LADO DR</td>\n",
                            "      <td>DIARIOS NORMAL</td>\n",
                            "      <td>1</td>\n",
                            "      <td>2</td>\n",
                            "    </tr>\n",
                            "    <tr>\n",
                            "      <th>70203</th>\n",
                            "      <td>mar-17</td>\n",
                            "      <td>L4</td>\n",
                            "      <td>Paros</td>\n",
                            "      <td>Paro por reventado</td>\n",
                            "      <td>AUT_10043_MPR_FALTA TRIM LADO DR</td>\n",
                            "      <td>DIARIOS NORMAL</td>\n",
                            "      <td>2</td>\n",
                            "      <td>5</td>\n",
                            "    </tr>\n",
                            "    <tr>\n",
                            "      <th>70204</th>\n",
                            "      <td>mar-17</td>\n",
                            "      <td>L4</td>\n",
                            "      <td>Paros</td>\n",
                            "      <td>Paro por reventado</td>\n",
                            "      <td>AUT_10058_MOL_AUSENCIA PULPA 1</td>\n",
                            "      <td>DIARIOS NORMAL</td>\n",
                            "      <td>2</td>\n",
                            "      <td>2</td>\n",
                            "    </tr>\n",
                            "    <tr>\n",
                            "      <th>70205</th>\n",
                            "      <td>mar-17</td>\n",
                            "      <td>L4</td>\n",
                            "      <td>Paros</td>\n",
                            "      <td>Paro por reventado</td>\n",
                            "      <td>AUT_10058_MOL_AUSENCIA PULPA 1</td>\n",
                            "      <td>DIARIOS NORMAL</td>\n",
                            "      <td>2</td>\n",
                            "      <td>2</td>\n",
                            "    </tr>\n",
                            "    <tr>\n",
                            "      <th>70206</th>\n",
                            "      <td>mar-17</td>\n",
                            "      <td>L4</td>\n",
                            "      <td>Paros</td>\n",
                            "      <td>Paro por reventado</td>\n",
                            "      <td>AUT_10058_MOL_AUSENCIA PULPA 1</td>\n",
                            "      <td>DIARIOS NORMAL</td>\n",
                            "      <td>1</td>\n",
                            "      <td>1</td>\n",
                            "    </tr>\n",
                            "  </tbody>\n",
                            "</table>\n",
                            "<p>59329 rows × 8 columns</p>\n",
                            "</div>"
                        ],
                        "text/plain": [
                            "      Fecha Real Maquina    Causa                  Tipo  \\\n",
                            "0         ene-16      L1  Cambios  Cambio de empacadora   \n",
                            "1         ene-16      L1  Cambios  Cambio de empacadora   \n",
                            "2         ene-16      L1  Cambios  Cambio de empacadora   \n",
                            "3         ene-16      L1  Cambios  Cambio de empacadora   \n",
                            "4         ene-16      L1  Cambios  Cambio de empacadora   \n",
                            "...          ...     ...      ...                   ...   \n",
                            "70202     mar-17      L4    Paros    Paro por reventado   \n",
                            "70203     mar-17      L4    Paros    Paro por reventado   \n",
                            "70204     mar-17      L4    Paros    Paro por reventado   \n",
                            "70205     mar-17      L4    Paros    Paro por reventado   \n",
                            "70206     mar-17      L4    Paros    Paro por reventado   \n",
                            "\n",
                            "                                Subtipo     Familia de Producto  \\\n",
                            "0                       CAMBIO PRODUCTO  ULTRAINVISIBLE RAPISEC   \n",
                            "1                     CAMBIO REFERENCIA         EXTRAPROTECCIÓN   \n",
                            "2                     CAMBIO REFERENCIA         EXTRAPROTECCIÓN   \n",
                            "3                     CAMBIO REFERENCIA         EXTRAPROTECCIÓN   \n",
                            "4                     CAMBIO REFERENCIA  ULTRAINVISIBLE RAPISEC   \n",
                            "...                                 ...                     ...   \n",
                            "70202  AUT_10043_MPR_FALTA TRIM LADO DR          DIARIOS NORMAL   \n",
                            "70203  AUT_10043_MPR_FALTA TRIM LADO DR          DIARIOS NORMAL   \n",
                            "70204    AUT_10058_MOL_AUSENCIA PULPA 1          DIARIOS NORMAL   \n",
                            "70205    AUT_10058_MOL_AUSENCIA PULPA 1          DIARIOS NORMAL   \n",
                            "70206    AUT_10058_MOL_AUSENCIA PULPA 1          DIARIOS NORMAL   \n",
                            "\n",
                            "       Turno en el que se presenta la falla  Tiempo del paro (min)  \n",
                            "0                                         2                     65  \n",
                            "1                                         1                     49  \n",
                            "2                                         3                    175  \n",
                            "3                                         1                     74  \n",
                            "4                                         2                    179  \n",
                            "...                                     ...                    ...  \n",
                            "70202                                     1                      2  \n",
                            "70203                                     2                      5  \n",
                            "70204                                     2                      2  \n",
                            "70205                                     2                      2  \n",
                            "70206                                     1                      1  \n",
                            "\n",
                            "[59329 rows x 8 columns]"
                        ]
                    },
                    "execution_count": 18,
                    "metadata": {},
                    "output_type": "execute_result"
                }
            ],
            "source": [
                "#Ahora a borrar filas con nulos:\n",
                "df = df.dropna()\n",
                "df\n"
            ]
        },
        {
            "cell_type": "code",
            "execution_count": 19,
            "metadata": {},
            "outputs": [
                {
                    "data": {
                        "application/vnd.microsoft.datawrangler.viewer.v0+json": {
                            "columns": [
                                {
                                    "name": "index",
                                    "rawType": "int64",
                                    "type": "integer"
                                },
                                {
                                    "name": "Fecha Real",
                                    "rawType": "object",
                                    "type": "string"
                                },
                                {
                                    "name": "Maquina",
                                    "rawType": "object",
                                    "type": "string"
                                },
                                {
                                    "name": "Causa",
                                    "rawType": "object",
                                    "type": "string"
                                },
                                {
                                    "name": "Tipo",
                                    "rawType": "object",
                                    "type": "string"
                                },
                                {
                                    "name": "Subtipo",
                                    "rawType": "object",
                                    "type": "string"
                                },
                                {
                                    "name": "Familia de Producto",
                                    "rawType": "object",
                                    "type": "string"
                                },
                                {
                                    "name": "Turno en el que se presenta la falla",
                                    "rawType": "int64",
                                    "type": "integer"
                                },
                                {
                                    "name": "Tiempo del paro (min)",
                                    "rawType": "int64",
                                    "type": "integer"
                                }
                            ],
                            "ref": "7159301f-b846-4380-a886-b9c7794d5777",
                            "rows": [
                                [
                                    "0",
                                    "ene-16",
                                    "L1",
                                    "Cambios",
                                    "Cambio de empacadora",
                                    "CAMBIO PRODUCTO",
                                    "ULTRAINVISIBLE RAPISEC",
                                    "2",
                                    "65"
                                ],
                                [
                                    "1",
                                    "ene-16",
                                    "L1",
                                    "Cambios",
                                    "Cambio de empacadora",
                                    "CAMBIO REFERENCIA",
                                    "EXTRAPROTECCIÓN",
                                    "1",
                                    "49"
                                ],
                                [
                                    "2",
                                    "ene-16",
                                    "L1",
                                    "Cambios",
                                    "Cambio de empacadora",
                                    "CAMBIO REFERENCIA",
                                    "EXTRAPROTECCIÓN",
                                    "3",
                                    "175"
                                ],
                                [
                                    "3",
                                    "ene-16",
                                    "L1",
                                    "Cambios",
                                    "Cambio de empacadora",
                                    "CAMBIO REFERENCIA",
                                    "EXTRAPROTECCIÓN",
                                    "1",
                                    "74"
                                ],
                                [
                                    "4",
                                    "ene-16",
                                    "L1",
                                    "Cambios",
                                    "Cambio de empacadora",
                                    "CAMBIO REFERENCIA",
                                    "ULTRAINVISIBLE RAPISEC",
                                    "2",
                                    "179"
                                ],
                                [
                                    "5",
                                    "ene-16",
                                    "L1",
                                    "Cambios",
                                    "Cambio de empacadora",
                                    "CAMBIO REFERENCIA",
                                    "ULTRAINVISIBLE RAPISEC",
                                    "3",
                                    "111"
                                ],
                                [
                                    "6",
                                    "ene-16",
                                    "L1",
                                    "Cambios",
                                    "Cambio de empacadora",
                                    "CAMBIO REFERENCIA",
                                    "EXTRAPROTECCIÓN",
                                    "1",
                                    "12"
                                ],
                                [
                                    "7",
                                    "ene-16",
                                    "L1",
                                    "Cambios",
                                    "Cambio de empacadora",
                                    "CAMBIO REFERENCIA",
                                    "ULTRAINVISIBLE RAPISEC",
                                    "2",
                                    "113"
                                ],
                                [
                                    "8",
                                    "ene-16",
                                    "L1",
                                    "Cambios",
                                    "Cambio de máquina",
                                    "CAMBIO PRODUCTO",
                                    "EXTRAPROTECCIÓN",
                                    "1",
                                    "153"
                                ],
                                [
                                    "9",
                                    "ene-16",
                                    "L1",
                                    "Cambios",
                                    "Cambio de máquina",
                                    "CAMBIO PRODUCTO",
                                    "EXTRAPROTECCIÓN",
                                    "2",
                                    "235"
                                ],
                                [
                                    "11",
                                    "ene-16",
                                    "L1",
                                    "Cambios",
                                    "Cambio de máquina",
                                    "CAMBIO PRODUCTO",
                                    "ULTRAINVISIBLE RAPISEC",
                                    "2",
                                    "174"
                                ],
                                [
                                    "12",
                                    "ene-16",
                                    "L1",
                                    "Cambios",
                                    "Cambio de máquina",
                                    "CAMBIO PRODUCTO",
                                    "ULTRAINVISIBLE RAPISEC",
                                    "3",
                                    "101"
                                ],
                                [
                                    "13",
                                    "ene-16",
                                    "L1",
                                    "Cambios",
                                    "Cambio de máquina",
                                    "CAMBIO PRODUCTO",
                                    "EXTRAPROTECCIÓN",
                                    "2",
                                    "54"
                                ],
                                [
                                    "14",
                                    "ene-16",
                                    "L1",
                                    "Cambios",
                                    "Cambio de máquina",
                                    "CAMBIO PRODUCTO",
                                    "EXTRAPROTECCIÓN",
                                    "3",
                                    "75"
                                ],
                                [
                                    "15",
                                    "ene-16",
                                    "L1",
                                    "Cambios",
                                    "Cambio de máquina",
                                    "CAMBIO PRODUCTO",
                                    "EXTRAPROTECCIÓN",
                                    "1",
                                    "77"
                                ],
                                [
                                    "16",
                                    "ene-16",
                                    "L1",
                                    "Cambios",
                                    "Cambio de máquina",
                                    "CAMBIO PRODUCTO",
                                    "EXTRAPROTECCIÓN",
                                    "3",
                                    "28"
                                ],
                                [
                                    "17",
                                    "ene-16",
                                    "L1",
                                    "Cambios",
                                    "Cambio de máquina",
                                    "CAMBIO PRODUCTO",
                                    "ULTRAINVISIBLE RAPISEC",
                                    "1",
                                    "76"
                                ],
                                [
                                    "18",
                                    "ene-16",
                                    "L1",
                                    "Cambios",
                                    "Cambio de máquina",
                                    "CAMBIO PRODUCTO",
                                    "ULTRAINVISIBLE RAPISEC",
                                    "3",
                                    "242"
                                ],
                                [
                                    "43",
                                    "ene-16",
                                    "L1",
                                    "Mto. Correctivo",
                                    "Mto. Eléctrico",
                                    "AUSENCIA VIDEO JET",
                                    "EXTRAPROTECCIÓN",
                                    "3",
                                    "20"
                                ],
                                [
                                    "46",
                                    "ene-16",
                                    "L1",
                                    "Mto. Correctivo",
                                    "Mto. Eléctrico",
                                    "AUSENCIA VIDEO JET",
                                    "ULTRAINVISIBLE RAPISEC",
                                    "1",
                                    "11"
                                ],
                                [
                                    "47",
                                    "ene-16",
                                    "L1",
                                    "Mto. Correctivo",
                                    "Mto. Eléctrico",
                                    "AUSENCIA VIDEO JET",
                                    "ULTRAINVISIBLE RAPISEC",
                                    "3",
                                    "13"
                                ],
                                [
                                    "49",
                                    "ene-16",
                                    "L1",
                                    "Mto. Correctivo",
                                    "Mto. Eléctrico",
                                    "EMPACADORA",
                                    "ULTRAINVISIBLE RAPISEC",
                                    "1",
                                    "45"
                                ],
                                [
                                    "53",
                                    "ene-16",
                                    "L1",
                                    "Mto. Correctivo",
                                    "Mto. Eléctrico",
                                    "ESTACKER",
                                    "ULTRAINVISIBLE RAPISEC",
                                    "2",
                                    "17"
                                ],
                                [
                                    "59",
                                    "ene-16",
                                    "L1",
                                    "Mto. Correctivo",
                                    "Mto. Eléctrico",
                                    "SENSOR DESCALIBRADO",
                                    "ULTRAINVISIBLE RAPISEC",
                                    "3",
                                    "35"
                                ],
                                [
                                    "60",
                                    "ene-16",
                                    "L1",
                                    "Mto. Correctivo",
                                    "Mto. Eléctrico",
                                    "SERVO MOTORES",
                                    "EXTRAPROTECCIÓN",
                                    "1",
                                    "13"
                                ],
                                [
                                    "63",
                                    "ene-16",
                                    "L1",
                                    "Mto. Correctivo",
                                    "Mto. Eléctrico",
                                    "VIDEO JET",
                                    "EXTRAPROTECCIÓN",
                                    "1",
                                    "72"
                                ],
                                [
                                    "64",
                                    "ene-16",
                                    "L1",
                                    "Mto. Correctivo",
                                    "Mto. Eléctrico",
                                    "VIDEO JET",
                                    "EXTRAPROTECCIÓN",
                                    "2",
                                    "71"
                                ],
                                [
                                    "65",
                                    "ene-16",
                                    "L1",
                                    "Mto. Correctivo",
                                    "Mto. Eléctrico",
                                    "VIDEO JET",
                                    "EXTRAPROTECCIÓN",
                                    "3",
                                    "37"
                                ],
                                [
                                    "66",
                                    "ene-16",
                                    "L1",
                                    "Mto. Correctivo",
                                    "Mto. Eléctrico",
                                    "VIDEO JET",
                                    "EXTRAPROTECCIÓN",
                                    "1",
                                    "54"
                                ],
                                [
                                    "67",
                                    "ene-16",
                                    "L1",
                                    "Mto. Correctivo",
                                    "Mto. Eléctrico",
                                    "VIDEO JET",
                                    "EXTRAPROTECCIÓN",
                                    "2",
                                    "56"
                                ],
                                [
                                    "68",
                                    "ene-16",
                                    "L1",
                                    "Mto. Correctivo",
                                    "Mto. Eléctrico",
                                    "VIDEO JET",
                                    "ULTRAINVISIBLE RAPISEC",
                                    "1",
                                    "32"
                                ],
                                [
                                    "69",
                                    "ene-16",
                                    "L1",
                                    "Mto. Correctivo",
                                    "Mto. Eléctrico",
                                    "VIDEO JET",
                                    "ULTRAINVISIBLE RAPISEC",
                                    "2",
                                    "15"
                                ],
                                [
                                    "70",
                                    "ene-16",
                                    "L1",
                                    "Mto. Correctivo",
                                    "Mto. Eléctrico",
                                    "VIDEO JET",
                                    "ULTRAINVISIBLE RAPISEC",
                                    "3",
                                    "52"
                                ],
                                [
                                    "73",
                                    "ene-16",
                                    "L1",
                                    "Mto. Correctivo",
                                    "Mto. Eléctrico",
                                    "VIDEO JET",
                                    "ULTRAINVISIBLE RAPISEC",
                                    "1",
                                    "27"
                                ],
                                [
                                    "76",
                                    "ene-16",
                                    "L1",
                                    "Mto. Correctivo",
                                    "Mto. Mecánico",
                                    "CUCHILLA TEX",
                                    "TOALLAS NOCTURNAS RAPISEC",
                                    "3",
                                    "17"
                                ],
                                [
                                    "77",
                                    "ene-16",
                                    "L1",
                                    "Mto. Correctivo",
                                    "Mto. Mecánico",
                                    "EMPACADORA",
                                    "ULTRAINVISIBLE RAPISEC",
                                    "3",
                                    "15"
                                ],
                                [
                                    "78",
                                    "ene-16",
                                    "L1",
                                    "Mto. Correctivo",
                                    "Mto. Mecánico",
                                    "IRTA SA",
                                    "EXTRAPROTECCIÓN",
                                    "3",
                                    "14"
                                ],
                                [
                                    "79",
                                    "ene-16",
                                    "L1",
                                    "Mto. Correctivo",
                                    "Mto. Mecánico",
                                    "IRTA SA",
                                    "EXTRAPROTECCIÓN",
                                    "2",
                                    "11"
                                ],
                                [
                                    "84",
                                    "ene-16",
                                    "L1",
                                    "Mto. Correctivo",
                                    "Mto. Mecánico",
                                    "MATFORMER",
                                    "EXTRAPROTECCIÓN",
                                    "3",
                                    "116"
                                ],
                                [
                                    "86",
                                    "ene-16",
                                    "L1",
                                    "Mto. Correctivo",
                                    "Mto. Mecánico",
                                    "TRANSMISIONES",
                                    "ULTRAINVISIBLE RAPISEC",
                                    "1",
                                    "26"
                                ],
                                [
                                    "87",
                                    "ene-16",
                                    "L1",
                                    "Mto. Correctivo",
                                    "Mto. Mecánico",
                                    "TRANSMISIONES",
                                    "ULTRAINVISIBLE RAPISEC",
                                    "2",
                                    "33"
                                ],
                                [
                                    "88",
                                    "ene-16",
                                    "L1",
                                    "Mto. Correctivo",
                                    "Mto. Mecánico",
                                    "TRANSMISIONES",
                                    "ULTRAINVISIBLE RAPISEC",
                                    "3",
                                    "14"
                                ],
                                [
                                    "89",
                                    "ene-16",
                                    "L1",
                                    "Mto. Correctivo",
                                    "Mto. Mecánico",
                                    "TRANSMISIONES",
                                    "EXTRAPROTECCIÓN",
                                    "2",
                                    "15"
                                ],
                                [
                                    "90",
                                    "ene-16",
                                    "L1",
                                    "Mto. Correctivo",
                                    "Mto. Mecánico",
                                    "TROQUEL BITE",
                                    "ULTRAINVISIBLE RAPISEC",
                                    "1",
                                    "63"
                                ],
                                [
                                    "91",
                                    "ene-16",
                                    "L1",
                                    "Mto. Correctivo",
                                    "Mto. Mecánico",
                                    "TROQUEL BITE",
                                    "ULTRAINVISIBLE RAPISEC",
                                    "3",
                                    "12"
                                ],
                                [
                                    "92",
                                    "ene-16",
                                    "L1",
                                    "Mto. Correctivo",
                                    "Mto. Mecánico",
                                    "TROQUEL CORTE",
                                    "EXTRAPROTECCIÓN",
                                    "1",
                                    "28"
                                ],
                                [
                                    "93",
                                    "ene-16",
                                    "L1",
                                    "Mto. Correctivo",
                                    "Mto. Mecánico",
                                    "TROQUEL CORTE AIRLAID",
                                    "ULTRAINVISIBLE RAPISEC",
                                    "2",
                                    "80"
                                ],
                                [
                                    "94",
                                    "ene-16",
                                    "L1",
                                    "Mto. Correctivo",
                                    "Mto. Mecánico",
                                    "TROQUEL SELLECORTE",
                                    "ULTRAINVISIBLE RAPISEC",
                                    "1",
                                    "15"
                                ],
                                [
                                    "95",
                                    "ene-16",
                                    "L1",
                                    "Mto. Correctivo",
                                    "Mto. Mecánico",
                                    "VENTILADORES",
                                    "ULTRAINVISIBLE RAPISEC",
                                    "3",
                                    "13"
                                ],
                                [
                                    "120",
                                    "ene-16",
                                    "L1",
                                    "Paros",
                                    "Paro Operativo",
                                    "APLICACION ADHESIVO",
                                    "EXTRAPROTECCIÓN",
                                    "2",
                                    "13"
                                ]
                            ],
                            "shape": {
                                "columns": 8,
                                "rows": 14308
                            }
                        },
                        "text/html": [
                            "<div>\n",
                            "<style scoped>\n",
                            "    .dataframe tbody tr th:only-of-type {\n",
                            "        vertical-align: middle;\n",
                            "    }\n",
                            "\n",
                            "    .dataframe tbody tr th {\n",
                            "        vertical-align: top;\n",
                            "    }\n",
                            "\n",
                            "    .dataframe thead th {\n",
                            "        text-align: right;\n",
                            "    }\n",
                            "</style>\n",
                            "<table border=\"1\" class=\"dataframe\">\n",
                            "  <thead>\n",
                            "    <tr style=\"text-align: right;\">\n",
                            "      <th></th>\n",
                            "      <th>Fecha Real</th>\n",
                            "      <th>Maquina</th>\n",
                            "      <th>Causa</th>\n",
                            "      <th>Tipo</th>\n",
                            "      <th>Subtipo</th>\n",
                            "      <th>Familia de Producto</th>\n",
                            "      <th>Turno en el que se presenta la falla</th>\n",
                            "      <th>Tiempo del paro (min)</th>\n",
                            "    </tr>\n",
                            "  </thead>\n",
                            "  <tbody>\n",
                            "    <tr>\n",
                            "      <th>0</th>\n",
                            "      <td>ene-16</td>\n",
                            "      <td>L1</td>\n",
                            "      <td>Cambios</td>\n",
                            "      <td>Cambio de empacadora</td>\n",
                            "      <td>CAMBIO PRODUCTO</td>\n",
                            "      <td>ULTRAINVISIBLE RAPISEC</td>\n",
                            "      <td>2</td>\n",
                            "      <td>65</td>\n",
                            "    </tr>\n",
                            "    <tr>\n",
                            "      <th>1</th>\n",
                            "      <td>ene-16</td>\n",
                            "      <td>L1</td>\n",
                            "      <td>Cambios</td>\n",
                            "      <td>Cambio de empacadora</td>\n",
                            "      <td>CAMBIO REFERENCIA</td>\n",
                            "      <td>EXTRAPROTECCIÓN</td>\n",
                            "      <td>1</td>\n",
                            "      <td>49</td>\n",
                            "    </tr>\n",
                            "    <tr>\n",
                            "      <th>2</th>\n",
                            "      <td>ene-16</td>\n",
                            "      <td>L1</td>\n",
                            "      <td>Cambios</td>\n",
                            "      <td>Cambio de empacadora</td>\n",
                            "      <td>CAMBIO REFERENCIA</td>\n",
                            "      <td>EXTRAPROTECCIÓN</td>\n",
                            "      <td>3</td>\n",
                            "      <td>175</td>\n",
                            "    </tr>\n",
                            "    <tr>\n",
                            "      <th>3</th>\n",
                            "      <td>ene-16</td>\n",
                            "      <td>L1</td>\n",
                            "      <td>Cambios</td>\n",
                            "      <td>Cambio de empacadora</td>\n",
                            "      <td>CAMBIO REFERENCIA</td>\n",
                            "      <td>EXTRAPROTECCIÓN</td>\n",
                            "      <td>1</td>\n",
                            "      <td>74</td>\n",
                            "    </tr>\n",
                            "    <tr>\n",
                            "      <th>4</th>\n",
                            "      <td>ene-16</td>\n",
                            "      <td>L1</td>\n",
                            "      <td>Cambios</td>\n",
                            "      <td>Cambio de empacadora</td>\n",
                            "      <td>CAMBIO REFERENCIA</td>\n",
                            "      <td>ULTRAINVISIBLE RAPISEC</td>\n",
                            "      <td>2</td>\n",
                            "      <td>179</td>\n",
                            "    </tr>\n",
                            "    <tr>\n",
                            "      <th>...</th>\n",
                            "      <td>...</td>\n",
                            "      <td>...</td>\n",
                            "      <td>...</td>\n",
                            "      <td>...</td>\n",
                            "      <td>...</td>\n",
                            "      <td>...</td>\n",
                            "      <td>...</td>\n",
                            "      <td>...</td>\n",
                            "    </tr>\n",
                            "    <tr>\n",
                            "      <th>70081</th>\n",
                            "      <td>mar-17</td>\n",
                            "      <td>L4</td>\n",
                            "      <td>Paros</td>\n",
                            "      <td>Paro por emergencia</td>\n",
                            "      <td>AUT_9010_MPR_STOP EN RUEDA INVERSORA ACTIVADO</td>\n",
                            "      <td>DIARIOS NORMAL</td>\n",
                            "      <td>3</td>\n",
                            "      <td>14</td>\n",
                            "    </tr>\n",
                            "    <tr>\n",
                            "      <th>70114</th>\n",
                            "      <td>mar-17</td>\n",
                            "      <td>L4</td>\n",
                            "      <td>Paros</td>\n",
                            "      <td>Paro por emergencia</td>\n",
                            "      <td>AUT_9018_MPR_STOP UNIDAD LAMINACION ACTIVADO</td>\n",
                            "      <td>DIARIOS NORMAL</td>\n",
                            "      <td>1</td>\n",
                            "      <td>15</td>\n",
                            "    </tr>\n",
                            "    <tr>\n",
                            "      <th>70184</th>\n",
                            "      <td>mar-17</td>\n",
                            "      <td>L4</td>\n",
                            "      <td>Paros</td>\n",
                            "      <td>Paro por reventado</td>\n",
                            "      <td>AUT_10042_MPR_FALTA TRIM LADO OP</td>\n",
                            "      <td>DIARIOS NORMAL</td>\n",
                            "      <td>3</td>\n",
                            "      <td>12</td>\n",
                            "    </tr>\n",
                            "    <tr>\n",
                            "      <th>70194</th>\n",
                            "      <td>mar-17</td>\n",
                            "      <td>L4</td>\n",
                            "      <td>Paros</td>\n",
                            "      <td>Paro por reventado</td>\n",
                            "      <td>AUT_10043_MPR_FALTA TRIM LADO DR</td>\n",
                            "      <td>DIARIOS NORMAL</td>\n",
                            "      <td>2</td>\n",
                            "      <td>12</td>\n",
                            "    </tr>\n",
                            "    <tr>\n",
                            "      <th>70195</th>\n",
                            "      <td>mar-17</td>\n",
                            "      <td>L4</td>\n",
                            "      <td>Paros</td>\n",
                            "      <td>Paro por reventado</td>\n",
                            "      <td>AUT_10043_MPR_FALTA TRIM LADO DR</td>\n",
                            "      <td>DIARIOS NORMAL</td>\n",
                            "      <td>3</td>\n",
                            "      <td>12</td>\n",
                            "    </tr>\n",
                            "  </tbody>\n",
                            "</table>\n",
                            "<p>14308 rows × 8 columns</p>\n",
                            "</div>"
                        ],
                        "text/plain": [
                            "      Fecha Real Maquina    Causa                  Tipo  \\\n",
                            "0         ene-16      L1  Cambios  Cambio de empacadora   \n",
                            "1         ene-16      L1  Cambios  Cambio de empacadora   \n",
                            "2         ene-16      L1  Cambios  Cambio de empacadora   \n",
                            "3         ene-16      L1  Cambios  Cambio de empacadora   \n",
                            "4         ene-16      L1  Cambios  Cambio de empacadora   \n",
                            "...          ...     ...      ...                   ...   \n",
                            "70081     mar-17      L4    Paros   Paro por emergencia   \n",
                            "70114     mar-17      L4    Paros   Paro por emergencia   \n",
                            "70184     mar-17      L4    Paros    Paro por reventado   \n",
                            "70194     mar-17      L4    Paros    Paro por reventado   \n",
                            "70195     mar-17      L4    Paros    Paro por reventado   \n",
                            "\n",
                            "                                             Subtipo     Familia de Producto  \\\n",
                            "0                                    CAMBIO PRODUCTO  ULTRAINVISIBLE RAPISEC   \n",
                            "1                                  CAMBIO REFERENCIA         EXTRAPROTECCIÓN   \n",
                            "2                                  CAMBIO REFERENCIA         EXTRAPROTECCIÓN   \n",
                            "3                                  CAMBIO REFERENCIA         EXTRAPROTECCIÓN   \n",
                            "4                                  CAMBIO REFERENCIA  ULTRAINVISIBLE RAPISEC   \n",
                            "...                                              ...                     ...   \n",
                            "70081  AUT_9010_MPR_STOP EN RUEDA INVERSORA ACTIVADO          DIARIOS NORMAL   \n",
                            "70114   AUT_9018_MPR_STOP UNIDAD LAMINACION ACTIVADO          DIARIOS NORMAL   \n",
                            "70184               AUT_10042_MPR_FALTA TRIM LADO OP          DIARIOS NORMAL   \n",
                            "70194               AUT_10043_MPR_FALTA TRIM LADO DR          DIARIOS NORMAL   \n",
                            "70195               AUT_10043_MPR_FALTA TRIM LADO DR          DIARIOS NORMAL   \n",
                            "\n",
                            "       Turno en el que se presenta la falla  Tiempo del paro (min)  \n",
                            "0                                         2                     65  \n",
                            "1                                         1                     49  \n",
                            "2                                         3                    175  \n",
                            "3                                         1                     74  \n",
                            "4                                         2                    179  \n",
                            "...                                     ...                    ...  \n",
                            "70081                                     3                     14  \n",
                            "70114                                     1                     15  \n",
                            "70184                                     3                     12  \n",
                            "70194                                     2                     12  \n",
                            "70195                                     3                     12  \n",
                            "\n",
                            "[14308 rows x 8 columns]"
                        ]
                    },
                    "execution_count": 19,
                    "metadata": {},
                    "output_type": "execute_result"
                }
            ],
            "source": [
                "#Necesito borrar las filas que tienen un valor menor o igual a 10 en la columna Tiempo del paro (min)\n",
                "df = df[df['Tiempo del paro (min)'] > 10]\n",
                "df"
            ]
        },
        {
            "cell_type": "code",
            "execution_count": 32,
            "metadata": {},
            "outputs": [
                {
                    "data": {
                        "image/png": "[encoded data removed]",
                        "text/plain": [
                            "<Figure size 1500x500 with 1 Axes>"
                        ]
                    },
                    "metadata": {},
                    "output_type": "display_data"
                },
                {
                    "name": "stdout",
                    "output_type": "stream",
                    "text": [
                        "La máquina que presenta más desviaciones es la 2, luego la 1, luego la 4 y por último la 3\n"
                    ]
                }
            ],
            "source": [
                "import matplotlib.pyplot as plt\n",
                "import seaborn as sns\n",
                "\n",
                "fig, axis = plt.subplots(1, figsize=(15, 5))\n",
                "\n",
                "sns.histplot(df['Maquina'], ax=axis).set(ylabel='Frecuencia')\n",
                "plt.title('Frecuencia de Paros por Máquina')\n",
                "plt.show()\n",
                "\n",
                "print('La máquina que presenta más desviaciones es la 2, luego la 1, luego la 4 y por último la 3')"
            ]
        },
        {
            "cell_type": "code",
            "execution_count": 31,
            "metadata": {},
            "outputs": [
                {
                    "data": {
                        "image/png": "[encoded data removed]",
                        "text/plain": [
                            "<Figure size 1000x700 with 1 Axes>"
                        ]
                    },
                    "metadata": {},
                    "output_type": "display_data"
                },
                {
                    "name": "stdout",
                    "output_type": "stream",
                    "text": [
                        "Las paradas se dan en su mayoría por paro por emergencia\n"
                    ]
                }
            ],
            "source": [
                "#Análisis categórico - categórico\n",
                "\n",
                "fig, ax = plt.subplots(figsize=(10, 7))\n",
                "sns.countplot(data=df, x='Maquina', hue='Tipo')\n",
                "#Quiero cambiar los colores de las barras\n",
                "palette = {'Paro Operativo': 'blue', 'Mto. Mecánico': 'red', 'Paro por Emergencia': 'green', 'Mto. Eléctrico': 'orange'}\n",
                "plt.grid(axis='y', linestyle='--', alpha=0.7)\n",
                "plt.tight_layout()\n",
                "plt.title('Frecuencia de Tipos de Paro por Máquina')\n",
                "plt.show()\n",
                "print('Las paradas se dan en su mayoría por paro por emergencia')"
            ]
        },
        {
            "cell_type": "code",
            "execution_count": 22,
            "metadata": {},
            "outputs": [
                {
                    "data": {
                        "application/vnd.microsoft.datawrangler.viewer.v0+json": {
                            "columns": [
                                {
                                    "name": "Tipo",
                                    "rawType": "object",
                                    "type": "string"
                                },
                                {
                                    "name": "Tiempo del paro (min)",
                                    "rawType": "int64",
                                    "type": "integer"
                                }
                            ],
                            "ref": "978cf8df-c0d4-49f5-bdaa-d6d125f55e4a",
                            "rows": [
                                [
                                    "Paro Operativo",
                                    "138852"
                                ],
                                [
                                    "Mto. Mecánico",
                                    "125967"
                                ],
                                [
                                    "Mto. Eléctrico",
                                    "87236"
                                ],
                                [
                                    "Cambio de máquina",
                                    "39826"
                                ],
                                [
                                    "Cambio de empacadora",
                                    "30208"
                                ],
                                [
                                    "Paro por alarma",
                                    "16474"
                                ],
                                [
                                    "Calidad de materias primas",
                                    "11275"
                                ],
                                [
                                    "Calidad material de empaques",
                                    "10813"
                                ],
                                [
                                    "Paro por emergencia",
                                    "10656"
                                ],
                                [
                                    "Paro por falla",
                                    "2241"
                                ],
                                [
                                    "Paro por reventado",
                                    "1215"
                                ],
                                [
                                    "Área de empaque",
                                    "1013"
                                ]
                            ],
                            "shape": {
                                "columns": 1,
                                "rows": 12
                            }
                        },
                        "text/plain": [
                            "Tipo\n",
                            "Paro Operativo                  138852\n",
                            "Mto. Mecánico                   125967\n",
                            "Mto. Eléctrico                   87236\n",
                            "Cambio de máquina                39826\n",
                            "Cambio de empacadora             30208\n",
                            "Paro por alarma                  16474\n",
                            "Calidad de materias primas       11275\n",
                            "Calidad material de empaques     10813\n",
                            "Paro por emergencia              10656\n",
                            "Paro por falla                    2241\n",
                            "Paro por reventado                1215\n",
                            "Área de empaque                   1013\n",
                            "Name: Tiempo del paro (min), dtype: int64"
                        ]
                    },
                    "execution_count": 22,
                    "metadata": {},
                    "output_type": "execute_result"
                }
            ],
            "source": [
                "#ahora quiero ver en qué tipo de falla se ha ido más tiempo de paro\n",
                "df.groupby('Tipo')['Tiempo del paro (min)'].sum().sort_values(ascending=False)\n",
                "\n",
                "#'se evidencia visualmente que paro operativo y paro por emergencia son los tipos de fallas más frecuentes, pero al revisar el tiempo de paro, se encuentra algo distinto')"
            ]
        },
        {
            "cell_type": "code",
            "execution_count": 23,
            "metadata": {},
            "outputs": [
                {
                    "data": {
                        "image/png": "[encoded data removed]",
                        "text/plain": [
                            "<Figure size 1000x700 with 1 Axes>"
                        ]
                    },
                    "metadata": {},
                    "output_type": "display_data"
                }
            ],
            "source": [
                "#ahora quiero graficar esos tiempos de paro por tipo de falla ordenado de mayor a menor\n",
                "import matplotlib.pyplot as plt\n",
                "import seaborn as sns\n",
                "fig, ax = plt.subplots(figsize=(10, 7))\n",
                "sns.barplot(x=df.groupby('Tipo')['Tiempo del paro (min)'].sum().sort_values(ascending=False).index, \n",
                "            y=df.groupby('Tipo')['Tiempo del paro (min)'].sum().sort_values(ascending=False).values, ax=ax)\n",
                "ax.set_xlabel('Tipo de Falla')\n",
                "ax.set_ylabel('Tiempo de Paro (min)')\n",
                "ax.set_title('Tiempo de Paro por Tipo de Falla')\n",
                "plt.xticks(rotation=45)\n",
                "plt.tight_layout()\n",
                "plt.show()"
            ]
        },
        {
            "cell_type": "code",
            "execution_count": 24,
            "metadata": {},
            "outputs": [
                {
                    "data": {
                        "image/png": "[encoded data removed]",
                        "text/plain": [
                            "<Figure size 1000x700 with 1 Axes>"
                        ]
                    },
                    "metadata": {},
                    "output_type": "display_data"
                },
                {
                    "name": "stdout",
                    "output_type": "stream",
                    "text": [
                        "Los top offenders en paro operativo se evidencian en este gráfico\n"
                    ]
                }
            ],
            "source": [
                "#Ahora, sólo tomando la columna Tipo, los valores que tengan \"Paro operativo\", quiero ver qué valor tienen en la columna Subtipo\n",
                "df[df['Tipo'] == 'Paro Operativo']['Subtipo'].value_counts()\n",
                "#Ahora haré un histograma con los subtipos de paro por emergencia pero sólo con los que tienen más de 100 ocurrencias\n",
                "subtipo_counts = df[df['Tipo'] == 'Paro Operativo']['Subtipo'].value_counts()\n",
                "subtipo_counts = subtipo_counts[subtipo_counts > 100]\n",
                "fig, ax = plt.subplots(figsize=(10, 7))\n",
                "sns.barplot(x=subtipo_counts.index, y=subtipo_counts.values, ax=ax)\n",
                "ax.set_xlabel('Subtipo')\n",
                "ax.set_ylabel('Frecuencia')\n",
                "ax.set_title('Frecuencia de Subtipos de Paro Operativo')\n",
                "plt.xticks(rotation=45)\n",
                "plt.tight_layout()\n",
                "plt.show()\n",
                "print('Los top offenders en paro operativo se evidencian en este gráfico')\n"
            ]
        },
        {
            "cell_type": "code",
            "execution_count": 25,
            "metadata": {},
            "outputs": [
                {
                    "data": {
                        "image/png": "[encoded data removed]",
                        "text/plain": [
                            "<Figure size 1000x700 with 1 Axes>"
                        ]
                    },
                    "metadata": {},
                    "output_type": "display_data"
                },
                {
                    "name": "stdout",
                    "output_type": "stream",
                    "text": [
                        "Los top offenders en Mto. Mecánico se evidencian en este gráfico\n"
                    ]
                }
            ],
            "source": [
                "#Ahora, sólo tomando la columna Tipo, los valores que tengan \"Paro Mto mecánico\", quiero ver qué valor tienen en la columna Subtipo\n",
                "df[df['Tipo'] == 'Mto. Eléctrico']['Subtipo'].value_counts()\n",
                "#Ahora haré un histograma con los subtipos de paro por emergencia pero sólo con los que tienen más de 100 ocurrencias\n",
                "subtipo_counts = df[df['Tipo'] == 'Mto. Mecánico']['Subtipo'].value_counts()\n",
                "subtipo_counts = subtipo_counts[subtipo_counts > 100]\n",
                "fig, ax = plt.subplots(figsize=(10, 7))\n",
                "sns.barplot(x=subtipo_counts.index, y=subtipo_counts.values, ax=ax)\n",
                "ax.set_xlabel('Subtipo')\n",
                "ax.set_ylabel('Frecuencia')\n",
                "ax.set_title('Frecuencia de Subtipos de Mto. Mecánico')\n",
                "plt.xticks(rotation=45)\n",
                "plt.tight_layout()\n",
                "plt.show()\n",
                "print('Los top offenders en Mto. Mecánico se evidencian en este gráfico')"
            ]
        },
        {
            "cell_type": "code",
            "execution_count": 26,
            "metadata": {},
            "outputs": [
                {
                    "data": {
                        "image/png": "[encoded data removed]",
                        "text/plain": [
                            "<Figure size 1000x700 with 1 Axes>"
                        ]
                    },
                    "metadata": {},
                    "output_type": "display_data"
                },
                {
                    "name": "stdout",
                    "output_type": "stream",
                    "text": [
                        "Los top offenders en Mto. Eléctrico se evidencian en este gráfico\n"
                    ]
                }
            ],
            "source": [
                "#Ahora, sólo tomando la columna Tipo, los valores que tengan \"Paro Mto eléctrico\", quiero ver qué valor tienen en la columna Subtipo\n",
                "df[df['Tipo'] == 'Mto. Eléctrico']['Subtipo'].value_counts()\n",
                "#Ahora haré un histograma con los subtipos de paro por emergencia pero sólo con los que tienen más de 100 ocurrencias\n",
                "subtipo_counts = df[df['Tipo'] == 'Mto. Eléctrico']['Subtipo'].value_counts()\n",
                "subtipo_counts = subtipo_counts[subtipo_counts > 100]\n",
                "fig, ax = plt.subplots(figsize=(10, 7))\n",
                "sns.barplot(x=subtipo_counts.index, y=subtipo_counts.values, ax=ax)\n",
                "ax.set_xlabel('Subtipo')\n",
                "ax.set_ylabel('Frecuencia')\n",
                "ax.set_title('Frecuencia de Subtipos de Mto. Eléctrico')\n",
                "plt.xticks(rotation=45)\n",
                "plt.tight_layout()\n",
                "plt.show()\n",
                "print('Los top offenders en Mto. Eléctrico se evidencian en este gráfico')"
            ]
        }
    ],
    "metadata": {
        "kernelspec": {
            "display_name": "Python 3",
            "language": "python",
            "name": "python3"
        },
        "language_info": {
            "codemirror_mode": {
                "name": "ipython",
                "version": 3
            },
            "file_extension": ".py",
            "mimetype": "text/x-python",
            "name": "python",
            "nbconvert_exporter": "python",
            "pygments_lexer": "ipython3",
            "version": "3.11.4"
        },
        "orig_nbformat": 4
    },
    "nbformat": 4,
    "nbformat_minor": 2
}
